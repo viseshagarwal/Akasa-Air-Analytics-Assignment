{
 "cells": [
  {
   "cell_type": "markdown",
   "metadata": {},
   "source": [
    "# Interview Task – Data Engineering & Analytics\n"
   ]
  },
  {
   "cell_type": "code",
   "execution_count": 98,
   "metadata": {},
   "outputs": [],
   "source": [
    "# imports\n",
    "import pandas as pd\n",
    "import matplotlib.pyplot as plt\n",
    "import seaborn as sns\n",
    "from datetime import datetime\n",
    "import scipy.stats as stats\n",
    "import warnings\n",
    "\n",
    "warnings.filterwarnings(\"ignore\")"
   ]
  },
  {
   "cell_type": "markdown",
   "metadata": {},
   "source": [
    "### Import the datasets\n"
   ]
  },
  {
   "cell_type": "code",
   "execution_count": 99,
   "metadata": {},
   "outputs": [
    {
     "name": "stdout",
     "output_type": "stream",
     "text": [
      "  FlightNumber DepartureDate DepartureTime ArrivalDate ArrivalTime  \\\n",
      "0       AA1234    09/01/2023      08:30 AM  09/01/2023    10:45 AM   \n",
      "1       DL5678    09/01/2023      01:15 PM  09/01/2023    03:30 PM   \n",
      "2       UA9101    09/01/2023      05:00 PM  09/01/2023    07:15 PM   \n",
      "3       AA1234    09/01/2023      08:30 AM  09/01/2023    10:45 PM   \n",
      "4       DL5678    09/02/2023      02:00 PM  09/02/2023    04:10 PM   \n",
      "\n",
      "             Airline  DelayMinutes  \n",
      "0  American Airlines          15.0  \n",
      "1              Delta           5.0  \n",
      "2    United Airlines          25.0  \n",
      "3  American Airlines          30.0  \n",
      "4              Delta           NaN  \n"
     ]
    }
   ],
   "source": [
    "df = pd.read_csv(\"aviation_data.csv\")\n",
    "print(df.head())"
   ]
  },
  {
   "cell_type": "markdown",
   "metadata": {},
   "source": [
    "### Insert the datasets and fetch values from MySQL database\n"
   ]
  },
  {
   "cell_type": "code",
   "execution_count": 100,
   "metadata": {},
   "outputs": [
    {
     "name": "stdout",
     "output_type": "stream",
     "text": [
      "   id FlightNumber DepartureDate DepartureTime ArrivalDate ArrivalTime  \\\n",
      "0   1       AA1234    09/01/2023      08:30 AM  09/01/2023    10:45 AM   \n",
      "1   2       DL5678    09/01/2023      01:15 PM  09/01/2023    03:30 PM   \n",
      "2   3       UA9101    09/01/2023      05:00 PM  09/01/2023    07:15 PM   \n",
      "3   4       AA1234    09/01/2023      08:30 AM  09/01/2023    10:45 PM   \n",
      "4   5       DL5678    09/02/2023      02:00 PM  09/02/2023    04:10 PM   \n",
      "\n",
      "             Airline  DelayMinutes  \n",
      "0  American Airlines          15.0  \n",
      "1              Delta           5.0  \n",
      "2    United Airlines          25.0  \n",
      "3  American Airlines          30.0  \n",
      "4              Delta           NaN  \n"
     ]
    }
   ],
   "source": [
    "from sqlalchemy import create_engine, text\n",
    "import os\n",
    "from dotenv import load_dotenv\n",
    "\n",
    "# Load environment variables from the .env file\n",
    "load_dotenv()\n",
    "\n",
    "# Retrieve database credentials from environment variables\n",
    "DB_USERNAME = os.getenv(\"DB_USERNAME\")\n",
    "DB_PASSWORD = os.getenv(\"DB_PASSWORD\")\n",
    "DB_HOST = os.getenv(\"DB_HOST\")\n",
    "DB_NAME = os.getenv(\"DB_NAME\")\n",
    "DB_PORT = os.getenv(\"DB_PORT\")\n",
    "\n",
    "\n",
    "connection_string = (\n",
    "    f\"mysql+pymysql://{DB_USERNAME}:{DB_PASSWORD}@{DB_HOST}:{DB_PORT}/{DB_NAME}\"\n",
    ")\n",
    "\n",
    "try:\n",
    "    engine = create_engine(connection_string)\n",
    "    # create table\n",
    "    create_table_query = text(\n",
    "        \"\"\"\n",
    "    CREATE TABLE IF NOT EXISTS aviation_data (\n",
    "        id INT AUTO_INCREMENT PRIMARY KEY,\n",
    "        FlightNumber TEXT,\n",
    "        DepartureDate TEXT,\n",
    "        DepartureTime TEXT,\n",
    "        ArrivalDate TEXT,\n",
    "        ArrivalTime TEXT,\n",
    "        Airline TEXT,\n",
    "        DelayMinutes FLOAT\n",
    "    )\"\"\"\n",
    "    )\n",
    "\n",
    "    with engine.connect() as connection:\n",
    "        connection.execute(create_table_query)\n",
    "\n",
    "    # insert data\n",
    "    df.to_sql(\"aviation_data\", engine, if_exists=\"append\", index=False)\n",
    "\n",
    "    # fetch data\n",
    "    df_fetched = pd.read_sql(\"SELECT * FROM aviation_data\", engine)\n",
    "\n",
    "    print(df_fetched.head())\n",
    "\n",
    "except Exception as e:\n",
    "    print(f\"Error: {e}\")\n",
    "\n",
    "finally:\n",
    "    engine.dispose()"
   ]
  },
  {
   "cell_type": "markdown",
   "metadata": {},
   "source": [
    "## DATA CLEANING\n",
    "\n",
    "- a. Identify and handle any missing or inconsistent values in the dataset.\n"
   ]
  },
  {
   "cell_type": "markdown",
   "metadata": {},
   "source": [
    "##### Data Cleaning : Missing Values\n"
   ]
  },
  {
   "cell_type": "code",
   "execution_count": 101,
   "metadata": {},
   "outputs": [
    {
     "name": "stdout",
     "output_type": "stream",
     "text": [
      "Missing values before handling:\n",
      "id               0\n",
      "FlightNumber     0\n",
      "DepartureDate    0\n",
      "DepartureTime    0\n",
      "ArrivalDate      0\n",
      "ArrivalTime      0\n",
      "Airline          0\n",
      "DelayMinutes     6\n",
      "dtype: int64\n",
      "\n",
      "Missing values after handling:\n",
      "id               0\n",
      "FlightNumber     0\n",
      "DepartureDate    0\n",
      "DepartureTime    0\n",
      "ArrivalDate      0\n",
      "ArrivalTime      0\n",
      "Airline          0\n",
      "DelayMinutes     0\n",
      "dtype: int64\n"
     ]
    }
   ],
   "source": [
    "df = df_fetched\n",
    "\n",
    "\n",
    "# Missing Values\n",
    "def check_missing_values(df):\n",
    "    print(\"Missing values before handling:\")\n",
    "    print(df.isnull().sum())\n",
    "\n",
    "    df[\"DelayMinutes\"] = df[\"DelayMinutes\"].fillna(0)\n",
    "\n",
    "    print(\"\\nMissing values after handling:\")\n",
    "    print(df.isnull().sum())\n",
    "    return df\n",
    "\n",
    "\n",
    "df = check_missing_values(df)"
   ]
  },
  {
   "cell_type": "markdown",
   "metadata": {},
   "source": [
    "##### Data Cleaning: Duplicate Values\n"
   ]
  },
  {
   "cell_type": "code",
   "execution_count": 102,
   "metadata": {},
   "outputs": [
    {
     "name": "stdout",
     "output_type": "stream",
     "text": [
      "\n",
      "Number of duplicate entries: 24\n",
      "Number of entries after removing duplicates: 12\n"
     ]
    }
   ],
   "source": [
    "# Check for duplicates\n",
    "def check_duplicates(df):\n",
    "    duplicate_count = df.duplicated(\n",
    "        subset=[\n",
    "            \"FlightNumber\",\n",
    "            \"DepartureDate\",\n",
    "            \"DepartureTime\",\n",
    "            \"ArrivalDate\",\n",
    "            \"ArrivalTime\",\n",
    "            \"Airline\",\n",
    "            \"DelayMinutes\",\n",
    "        ]\n",
    "    ).sum()\n",
    "    print(f\"\\nNumber of duplicate entries: {duplicate_count}\")\n",
    "\n",
    "    # Remove duplicates\n",
    "    df = df.drop_duplicates(\n",
    "        subset=[\n",
    "            \"FlightNumber\",\n",
    "            \"DepartureDate\",\n",
    "            \"DepartureTime\",\n",
    "            \"ArrivalDate\",\n",
    "            \"ArrivalTime\",\n",
    "            \"Airline\",\n",
    "            \"DelayMinutes\",\n",
    "        ]\n",
    "    )\n",
    "\n",
    "    print(f\"Number of entries after removing duplicates: {df.shape[0]}\")\n",
    "    return df\n",
    "\n",
    "\n",
    "df = check_duplicates(df)"
   ]
  },
  {
   "cell_type": "markdown",
   "metadata": {},
   "source": [
    "##### Data Cleaning: Inconsistent Time Entries\n"
   ]
  },
  {
   "cell_type": "code",
   "execution_count": 103,
   "metadata": {},
   "outputs": [
    {
     "name": "stdout",
     "output_type": "stream",
     "text": [
      "Number of inconsistent time entries: 2\n",
      "Number of entries after removing inconsistent time entries: 10\n",
      "   id FlightNumber DepartureDate DepartureTime ArrivalDate ArrivalTime  \\\n",
      "0   1       AA1234    09/01/2023      08:30 AM  09/01/2023    10:45 AM   \n",
      "1   2       DL5678    09/01/2023      01:15 PM  09/01/2023    03:30 PM   \n",
      "2   3       UA9101    09/01/2023      05:00 PM  09/01/2023    07:15 PM   \n",
      "4   5       DL5678    09/02/2023      02:00 PM  09/02/2023    04:10 PM   \n",
      "5   6       UA9101    09/02/2023      05:00 PM  09/02/2023    07:15 PM   \n",
      "\n",
      "             Airline  DelayMinutes DepartureTime_24 ArrivalTime_24  \\\n",
      "0  American Airlines          15.0            08:30          10:45   \n",
      "1              Delta           5.0            13:15          15:30   \n",
      "2    United Airlines          25.0            17:00          19:15   \n",
      "4              Delta           0.0            14:00          16:10   \n",
      "5    United Airlines          20.0            17:00          19:15   \n",
      "\n",
      "    DepartureDateTime     ArrivalDateTime  \n",
      "0 2023-09-01 08:30:00 2023-09-01 10:45:00  \n",
      "1 2023-09-01 13:15:00 2023-09-01 15:30:00  \n",
      "2 2023-09-01 17:00:00 2023-09-01 19:15:00  \n",
      "4 2023-09-02 14:00:00 2023-09-02 16:10:00  \n",
      "5 2023-09-02 17:00:00 2023-09-02 19:15:00  \n"
     ]
    }
   ],
   "source": [
    "def convert_to_24hr(time_str):\n",
    "    return datetime.strptime(time_str, \"%I:%M %p\").strftime(\"%H:%M\")\n",
    "\n",
    "\n",
    "# Check for inconsistent time entries\n",
    "def check_inconsistent_time_entries(df):\n",
    "    # Inconsistent time entries\n",
    "    inconsistent_time_entries = pd.DataFrame()\n",
    "\n",
    "    inconsistent_time_entries = df[df[\"DepartureTime\"] > df[\"ArrivalTime\"]]\n",
    "    df = df[df[\"DepartureTime\"] <= df[\"ArrivalTime\"]]\n",
    "\n",
    "    # Convert DepartureTime and ArrivalTime to 24-hour format\n",
    "    df[\"DepartureTime_24\"] = df[\"DepartureTime\"].apply(convert_to_24hr)\n",
    "    df[\"ArrivalTime_24\"] = df[\"ArrivalTime\"].apply(convert_to_24hr)\n",
    "\n",
    "    # Combine DepartureDate and DepartureTime into a single datetime\n",
    "    df[\"DepartureDateTime\"] = pd.to_datetime(\n",
    "        df[\"DepartureDate\"] + \" \" + df[\"DepartureTime\"], format=\"%m/%d/%Y %I:%M %p\"\n",
    "    )\n",
    "    df[\"ArrivalDateTime\"] = pd.to_datetime(\n",
    "        df[\"ArrivalDate\"] + \" \" + df[\"ArrivalTime\"], format=\"%m/%d/%Y %I:%M %p\"\n",
    "    )\n",
    "\n",
    "    # Identify duplicate flights based on specific columns\n",
    "    duplicates = df[df.duplicated(\n",
    "        subset=['FlightNumber', 'Airline', 'DepartureDate', 'ArrivalDate', 'DepartureTime'])]\n",
    "\n",
    "    inconsistent_time_entries = pd.concat(\n",
    "        [inconsistent_time_entries, duplicates])\n",
    "\n",
    "    df = df.drop_duplicates(\n",
    "        subset=['FlightNumber', 'Airline', 'DepartureDate', 'ArrivalDate', 'DepartureTime'])\n",
    "    print(\n",
    "        f\"Number of inconsistent time entries: {inconsistent_time_entries.shape[0]}\")\n",
    "    print(f\"Number of entries after removing inconsistent time entries: {df.shape[0]}\")\n",
    "    \n",
    "    print(df.head())\n",
    "    return df\n",
    "\n",
    "\n",
    "df = check_inconsistent_time_entries(df)"
   ]
  },
  {
   "cell_type": "markdown",
   "metadata": {},
   "source": [
    "- b. Ensure all column data types are appropriate (e.g., dates as date types, times as time types).\n"
   ]
  },
  {
   "cell_type": "code",
   "execution_count": 104,
   "metadata": {},
   "outputs": [
    {
     "name": "stdout",
     "output_type": "stream",
     "text": [
      "id                            int64\n",
      "FlightNumber                 object\n",
      "DepartureDate        datetime64[ns]\n",
      "DepartureTime        datetime64[ns]\n",
      "ArrivalDate          datetime64[ns]\n",
      "ArrivalTime          datetime64[ns]\n",
      "Airline                      object\n",
      "DelayMinutes                  int64\n",
      "DepartureTime_24             object\n",
      "ArrivalTime_24               object\n",
      "DepartureDateTime    datetime64[ns]\n",
      "ArrivalDateTime      datetime64[ns]\n",
      "dtype: object\n"
     ]
    }
   ],
   "source": [
    "# Ensure all column data types are appropriate (e.g., dates as date types, times as time types).\n",
    "df[\"FlightNumber\"] = df[\"FlightNumber\"].astype(str)\n",
    "df[\"DepartureDate\"] = pd.to_datetime(df[\"DepartureDate\"])\n",
    "df[\"ArrivalDate\"] = pd.to_datetime(df[\"ArrivalDate\"])\n",
    "df[\"DepartureTime\"] = pd.to_datetime(df[\"DepartureTime\"])\n",
    "df[\"ArrivalTime\"] = pd.to_datetime(df[\"ArrivalTime\"])\n",
    "df[\"DelayMinutes\"] = df[\"DelayMinutes\"].astype(int)\n",
    "df[\"Airline\"] = df[\"Airline\"].astype(str)\n",
    "print(df.dtypes)"
   ]
  },
  {
   "cell_type": "markdown",
   "metadata": {},
   "source": [
    "- Correct any inconsistencies or errors in times (e.g., arrival time should be later than departure\n",
    "  time).\n"
   ]
  },
  {
   "cell_type": "code",
   "execution_count": 105,
   "metadata": {},
   "outputs": [
    {
     "name": "stdout",
     "output_type": "stream",
     "text": [
      "   id FlightNumber DepartureDate       DepartureTime ArrivalDate  \\\n",
      "0   1       AA1234    2023-09-01 2024-09-30 08:30:00  2023-09-01   \n",
      "1   2       DL5678    2023-09-01 2024-09-30 13:15:00  2023-09-01   \n",
      "2   3       UA9101    2023-09-01 2024-09-30 17:00:00  2023-09-01   \n",
      "4   5       DL5678    2023-09-02 2024-09-30 14:00:00  2023-09-02   \n",
      "5   6       UA9101    2023-09-02 2024-09-30 17:00:00  2023-09-02   \n",
      "\n",
      "          ArrivalTime            Airline  DelayMinutes DepartureTime_24  \\\n",
      "0 2024-09-30 10:45:00  American Airlines            15            08:30   \n",
      "1 2024-09-30 15:30:00              Delta             5            13:15   \n",
      "2 2024-09-30 19:15:00    United Airlines            25            17:00   \n",
      "4 2024-09-30 16:10:00              Delta             0            14:00   \n",
      "5 2024-09-30 19:15:00    United Airlines            20            17:00   \n",
      "\n",
      "  ArrivalTime_24   DepartureDateTime     ArrivalDateTime  \n",
      "0          10:45 2023-09-01 08:30:00 2023-09-01 10:45:00  \n",
      "1          15:30 2023-09-01 13:15:00 2023-09-01 15:30:00  \n",
      "2          19:15 2023-09-01 17:00:00 2023-09-01 19:15:00  \n",
      "4          16:10 2023-09-02 14:00:00 2023-09-02 16:10:00  \n",
      "5          19:15 2023-09-02 17:00:00 2023-09-02 19:15:00  \n"
     ]
    }
   ],
   "source": [
    "# Correct any inconsistencies or errors in times (e.g., arrival time should be later than departure time).\n",
    "df = df[df[\"DepartureDateTime\"] <= df[\"ArrivalDateTime\"]]\n",
    "print(df.head())"
   ]
  },
  {
   "cell_type": "markdown",
   "metadata": {},
   "source": [
    "### Data Normalization\n",
    "\n",
    "- a. Convert DepartureDate and ArrivalDate columns to a standard YYYY-MM-DD format.\n"
   ]
  },
  {
   "cell_type": "code",
   "execution_count": 106,
   "metadata": {},
   "outputs": [
    {
     "data": {
      "text/html": [
       "<div>\n",
       "<style scoped>\n",
       "    .dataframe tbody tr th:only-of-type {\n",
       "        vertical-align: middle;\n",
       "    }\n",
       "\n",
       "    .dataframe tbody tr th {\n",
       "        vertical-align: top;\n",
       "    }\n",
       "\n",
       "    .dataframe thead th {\n",
       "        text-align: right;\n",
       "    }\n",
       "</style>\n",
       "<table border=\"1\" class=\"dataframe\">\n",
       "  <thead>\n",
       "    <tr style=\"text-align: right;\">\n",
       "      <th></th>\n",
       "      <th>DepartureDate</th>\n",
       "      <th>ArrivalDate</th>\n",
       "    </tr>\n",
       "  </thead>\n",
       "  <tbody>\n",
       "    <tr>\n",
       "      <th>0</th>\n",
       "      <td>2023-09-01</td>\n",
       "      <td>2023-09-01</td>\n",
       "    </tr>\n",
       "    <tr>\n",
       "      <th>1</th>\n",
       "      <td>2023-09-01</td>\n",
       "      <td>2023-09-01</td>\n",
       "    </tr>\n",
       "    <tr>\n",
       "      <th>2</th>\n",
       "      <td>2023-09-01</td>\n",
       "      <td>2023-09-01</td>\n",
       "    </tr>\n",
       "    <tr>\n",
       "      <th>4</th>\n",
       "      <td>2023-09-02</td>\n",
       "      <td>2023-09-02</td>\n",
       "    </tr>\n",
       "    <tr>\n",
       "      <th>5</th>\n",
       "      <td>2023-09-02</td>\n",
       "      <td>2023-09-02</td>\n",
       "    </tr>\n",
       "  </tbody>\n",
       "</table>\n",
       "</div>"
      ],
      "text/plain": [
       "  DepartureDate ArrivalDate\n",
       "0    2023-09-01  2023-09-01\n",
       "1    2023-09-01  2023-09-01\n",
       "2    2023-09-01  2023-09-01\n",
       "4    2023-09-02  2023-09-02\n",
       "5    2023-09-02  2023-09-02"
      ]
     },
     "execution_count": 106,
     "metadata": {},
     "output_type": "execute_result"
    }
   ],
   "source": [
    "# Convert DepartureDate and ArrivalDate to datetime and format as YYYY-MM-DD\n",
    "df[\"DepartureDate\"] = pd.to_datetime(\n",
    "    df[\"DepartureDate\"], format=\"%m/%d/%Y\"\n",
    ").dt.strftime(\"%Y-%m-%d\")\n",
    "df[\"ArrivalDate\"] = pd.to_datetime(df[\"ArrivalDate\"], format=\"%m/%d/%Y\").dt.strftime(\n",
    "    \"%Y-%m-%d\"\n",
    ")\n",
    "\n",
    "# Verify the changes\n",
    "df[[\"DepartureDate\", \"ArrivalDate\"]].head()"
   ]
  },
  {
   "cell_type": "markdown",
   "metadata": {},
   "source": [
    "- b. Convert DepartureTime and ArrivalTime columns to a 24-hour time format (e.g., \"08:30\" for 8:30 AM).\n"
   ]
  },
  {
   "cell_type": "code",
   "execution_count": 107,
   "metadata": {},
   "outputs": [
    {
     "data": {
      "text/html": [
       "<div>\n",
       "<style scoped>\n",
       "    .dataframe tbody tr th:only-of-type {\n",
       "        vertical-align: middle;\n",
       "    }\n",
       "\n",
       "    .dataframe tbody tr th {\n",
       "        vertical-align: top;\n",
       "    }\n",
       "\n",
       "    .dataframe thead th {\n",
       "        text-align: right;\n",
       "    }\n",
       "</style>\n",
       "<table border=\"1\" class=\"dataframe\">\n",
       "  <thead>\n",
       "    <tr style=\"text-align: right;\">\n",
       "      <th></th>\n",
       "      <th>DepartureTime</th>\n",
       "      <th>ArrivalTime</th>\n",
       "    </tr>\n",
       "  </thead>\n",
       "  <tbody>\n",
       "    <tr>\n",
       "      <th>0</th>\n",
       "      <td>08:30</td>\n",
       "      <td>10:45</td>\n",
       "    </tr>\n",
       "    <tr>\n",
       "      <th>1</th>\n",
       "      <td>13:15</td>\n",
       "      <td>15:30</td>\n",
       "    </tr>\n",
       "    <tr>\n",
       "      <th>2</th>\n",
       "      <td>17:00</td>\n",
       "      <td>19:15</td>\n",
       "    </tr>\n",
       "    <tr>\n",
       "      <th>4</th>\n",
       "      <td>14:00</td>\n",
       "      <td>16:10</td>\n",
       "    </tr>\n",
       "    <tr>\n",
       "      <th>5</th>\n",
       "      <td>17:00</td>\n",
       "      <td>19:15</td>\n",
       "    </tr>\n",
       "  </tbody>\n",
       "</table>\n",
       "</div>"
      ],
      "text/plain": [
       "  DepartureTime ArrivalTime\n",
       "0         08:30       10:45\n",
       "1         13:15       15:30\n",
       "2         17:00       19:15\n",
       "4         14:00       16:10\n",
       "5         17:00       19:15"
      ]
     },
     "execution_count": 107,
     "metadata": {},
     "output_type": "execute_result"
    }
   ],
   "source": [
    "# Optionally, replace the original time columns with 24-hour format\n",
    "df[\"DepartureTime\"] = df[\"DepartureTime_24\"]\n",
    "df[\"ArrivalTime\"] = df[\"ArrivalTime_24\"]\n",
    "\n",
    "# Drop the temporary 24-hour columns\n",
    "df = df.drop([\"DepartureTime_24\", \"ArrivalTime_24\"], axis=1)\n",
    "\n",
    "# Verify the changes\n",
    "df[[\"DepartureTime\", \"ArrivalTime\"]].head()"
   ]
  },
  {
   "cell_type": "markdown",
   "metadata": {},
   "source": [
    "- c. Create a new column for FlightDuration by calculating the difference between DepartureTime and ArrivalTime on the same day.\n"
   ]
  },
  {
   "cell_type": "code",
   "execution_count": 108,
   "metadata": {},
   "outputs": [
    {
     "data": {
      "text/html": [
       "<div>\n",
       "<style scoped>\n",
       "    .dataframe tbody tr th:only-of-type {\n",
       "        vertical-align: middle;\n",
       "    }\n",
       "\n",
       "    .dataframe tbody tr th {\n",
       "        vertical-align: top;\n",
       "    }\n",
       "\n",
       "    .dataframe thead th {\n",
       "        text-align: right;\n",
       "    }\n",
       "</style>\n",
       "<table border=\"1\" class=\"dataframe\">\n",
       "  <thead>\n",
       "    <tr style=\"text-align: right;\">\n",
       "      <th></th>\n",
       "      <th>FlightNumber</th>\n",
       "      <th>DepartureDateTime</th>\n",
       "      <th>ArrivalDateTime</th>\n",
       "      <th>FlightDuration</th>\n",
       "    </tr>\n",
       "  </thead>\n",
       "  <tbody>\n",
       "    <tr>\n",
       "      <th>0</th>\n",
       "      <td>AA1234</td>\n",
       "      <td>2023-09-01 08:30:00</td>\n",
       "      <td>2023-09-01 10:45:00</td>\n",
       "      <td>135.0</td>\n",
       "    </tr>\n",
       "    <tr>\n",
       "      <th>1</th>\n",
       "      <td>DL5678</td>\n",
       "      <td>2023-09-01 13:15:00</td>\n",
       "      <td>2023-09-01 15:30:00</td>\n",
       "      <td>135.0</td>\n",
       "    </tr>\n",
       "    <tr>\n",
       "      <th>2</th>\n",
       "      <td>UA9101</td>\n",
       "      <td>2023-09-01 17:00:00</td>\n",
       "      <td>2023-09-01 19:15:00</td>\n",
       "      <td>135.0</td>\n",
       "    </tr>\n",
       "    <tr>\n",
       "      <th>4</th>\n",
       "      <td>DL5678</td>\n",
       "      <td>2023-09-02 14:00:00</td>\n",
       "      <td>2023-09-02 16:10:00</td>\n",
       "      <td>130.0</td>\n",
       "    </tr>\n",
       "    <tr>\n",
       "      <th>5</th>\n",
       "      <td>UA9101</td>\n",
       "      <td>2023-09-02 17:00:00</td>\n",
       "      <td>2023-09-02 19:15:00</td>\n",
       "      <td>135.0</td>\n",
       "    </tr>\n",
       "  </tbody>\n",
       "</table>\n",
       "</div>"
      ],
      "text/plain": [
       "  FlightNumber   DepartureDateTime     ArrivalDateTime  FlightDuration\n",
       "0       AA1234 2023-09-01 08:30:00 2023-09-01 10:45:00           135.0\n",
       "1       DL5678 2023-09-01 13:15:00 2023-09-01 15:30:00           135.0\n",
       "2       UA9101 2023-09-01 17:00:00 2023-09-01 19:15:00           135.0\n",
       "4       DL5678 2023-09-02 14:00:00 2023-09-02 16:10:00           130.0\n",
       "5       UA9101 2023-09-02 17:00:00 2023-09-02 19:15:00           135.0"
      ]
     },
     "execution_count": 108,
     "metadata": {},
     "output_type": "execute_result"
    }
   ],
   "source": [
    "# Calculate FlightDuration in minutes\n",
    "df[\"FlightDuration\"] = (df[\"ArrivalDateTime\"] - df[\"DepartureDateTime\"]).dt.total_seconds() / 60\n",
    "\n",
    "df[[\"FlightNumber\", \"DepartureDateTime\", \"ArrivalDateTime\", \"FlightDuration\"]].head()\n"
   ]
  },
  {
   "cell_type": "markdown",
   "metadata": {},
   "source": [
    "## DATA ANALYSIS\n",
    "\n",
    "- Analyze the distribution of delays and identify any trends or patterns.\n"
   ]
  },
  {
   "cell_type": "code",
   "execution_count": 109,
   "metadata": {},
   "outputs": [
    {
     "name": "stdout",
     "output_type": "stream",
     "text": [
      "Delay Minutes Summary:\n",
      "count    10.000000\n",
      "mean     19.500000\n",
      "std      19.500712\n",
      "min       0.000000\n",
      "25%       6.250000\n",
      "50%      15.000000\n",
      "75%      23.750000\n",
      "max      60.000000\n",
      "Name: DelayMinutes, dtype: float64\n"
     ]
    },
    {
     "data": {
      "image/png": "[encoded data removed]",
      "text/plain": [
       "<Figure size 800x500 with 1 Axes>"
      ]
     },
     "metadata": {},
     "output_type": "display_data"
    },
    {
     "name": "stdout",
     "output_type": "stream",
     "text": [
      "Insights:\n",
      "1. The distribution shows that the majority of flights had delays between 0 and 10 minutes, with the highest frequency in this range.\n",
      "2. The overall shape of the histogram suggests a right-skewed distribution. Most delays are concentrated at the lower end, with fewer flights experiencing significant delays (over 30 minutes).\n",
      "3. A significant proportion of flights face relatively short delays (below 15 minutes).\n"
     ]
    }
   ],
   "source": [
    "# Summary statistics of DelayMinutes\n",
    "delay_summary = df[\"DelayMinutes\"].describe()\n",
    "print(\"Delay Minutes Summary:\")\n",
    "print(delay_summary)\n",
    "\n",
    "# Plot distribution of delays\n",
    "plt.figure(figsize=(8, 5))\n",
    "sns.histplot(df[\"DelayMinutes\"],bins=10, kde=True)\n",
    "plt.title(\"Distribution of Flight Delays\")\n",
    "plt.xlabel(\"Delay Minutes\")\n",
    "plt.ylabel(\"Frequency\")\n",
    "plt.show()\n",
    "\n",
    "print('Insights:')\n",
    "print(\"1. The distribution shows that the majority of flights had delays between 0 and 10 minutes, with the highest frequency in this range.\")\n",
    "print(\"2. The overall shape of the histogram suggests a right-skewed distribution. Most delays are concentrated at the lower end, with fewer flights experiencing significant delays (over 30 minutes).\")\n",
    "print(\"3. A significant proportion of flights face relatively short delays (below 15 minutes).\")"
   ]
  },
  {
   "cell_type": "markdown",
   "metadata": {},
   "source": [
    "- Calculate the average delay for each airline.\n"
   ]
  },
  {
   "cell_type": "code",
   "execution_count": 110,
   "metadata": {},
   "outputs": [
    {
     "name": "stdout",
     "output_type": "stream",
     "text": [
      "Average Delay per Airline:\n",
      "             Airline  DelayMinutes\n",
      "0  American Airlines          30.0\n",
      "1              Delta           5.0\n",
      "2    United Airlines          22.5\n"
     ]
    },
    {
     "data": {
      "image/png": "[encoded data removed]",
      "text/plain": [
       "<Figure size 800x500 with 1 Axes>"
      ]
     },
     "metadata": {},
     "output_type": "display_data"
    },
    {
     "name": "stdout",
     "output_type": "stream",
     "text": [
      "Insights:\n",
      "1. The average delay times vary significantly across different airlines.\n",
      "2. American Airlines has the highest average delay, while Delta Airline has the lowest average delay.\n",
      "3. The difference in average delay times suggests variations in operational efficiency and performance among airlines.\n"
     ]
    }
   ],
   "source": [
    "# Average delay per airline\n",
    "average_delay_airline = df.groupby(\"Airline\")[\"DelayMinutes\"].mean().reset_index()\n",
    "\n",
    "# Display the results\n",
    "print(\"Average Delay per Airline:\")\n",
    "print(average_delay_airline)\n",
    "\n",
    "# Plot average delay per airline\n",
    "plt.figure(figsize=(8, 5))\n",
    "sns.barplot(\n",
    "    data=average_delay_airline, x=\"Airline\", y=\"DelayMinutes\", palette=\"viridis\"\n",
    ")\n",
    "plt.title(\"Average Delay by Airline\")\n",
    "plt.xlabel(\"Airline\")\n",
    "plt.ylabel(\"Average Delay (Minutes)\")\n",
    "plt.show()\n",
    "\n",
    "print('Insights:')\n",
    "print(\"1. The average delay times vary significantly across different airlines.\")\n",
    "print(\"2. American Airlines has the highest average delay, while Delta Airline has the lowest average delay.\")\n",
    "print(\"3. The difference in average delay times suggests variations in operational efficiency and performance among airlines.\")"
   ]
  },
  {
   "cell_type": "markdown",
   "metadata": {},
   "source": [
    "- Identify any relationships between flight delays and departure times (e.g., are flights departing later in the day more likely to be delayed?).\n"
   ]
  },
  {
   "cell_type": "code",
   "execution_count": 111,
   "metadata": {},
   "outputs": [
    {
     "data": {
      "image/png": "[encoded data removed]",
      "text/plain": [
       "<Figure size 800x500 with 1 Axes>"
      ]
     },
     "metadata": {},
     "output_type": "display_data"
    },
    {
     "name": "stdout",
     "output_type": "stream",
     "text": [
      "Insights:\n",
      "1. Evening Delays: Delays increase significantly after 16:00, especially for United and American Airlines.\n",
      "2. Delta's Punctuality: Delta consistently has minimal delays.\n",
      "3. American Airlines Peaks: American Airlines faces large delays around morning 8:00 and night 20:00.\n"
     ]
    }
   ],
   "source": [
    "# Extract hour from DepartureTime\n",
    "df[\"DepartureHour\"] = pd.to_datetime(df[\"DepartureTime\"], format=\"%H:%M\").dt.hour\n",
    "\n",
    "# Scatter plot of DepartureHour vs DelayMinutes\n",
    "plt.figure(figsize=(8, 5))\n",
    "sns.scatterplot(data=df, x=\"DepartureHour\", y=\"DelayMinutes\", hue=\"Airline\", alpha=0.6)\n",
    "plt.title(\"Flight Delays vs Departure Time\")\n",
    "plt.xlabel(\"Departure Hour (Time)\")\n",
    "plt.ylabel(\"Delay Minutes\")\n",
    "plt.legend(title=\"Airline\")\n",
    "plt.grid(axis=\"y\", linestyle=\"--\")\n",
    "plt.show()\n",
    "\n",
    "print('Insights:')\n",
    "print(\"1. Evening Delays: Delays increase significantly after 16:00, especially for United and American Airlines.\")\n",
    "print(\"2. Delta's Punctuality: Delta consistently has minimal delays.\")\n",
    "print(\"3. American Airlines Peaks: American Airlines faces large delays around morning 8:00 and night 20:00.\")"
   ]
  },
  {
   "cell_type": "code",
   "execution_count": 112,
   "metadata": {},
   "outputs": [
    {
     "data": {
      "image/png": "[encoded data removed]",
      "text/plain": [
       "<Figure size 800x500 with 1 Axes>"
      ]
     },
     "metadata": {},
     "output_type": "display_data"
    },
    {
     "name": "stdout",
     "output_type": "stream",
     "text": [
      "Insights:\n",
      "1. High delays in the evening: Delays peak after 17:00, with the highest around 20:00 (60+ minutes).\n",
      "2. Minimal delays at midday: Almost no delays between 14:00 and 15:00.\n",
      "3. Morning decline: Delays gradually decrease from 9:00 to 13:00.\n"
     ]
    }
   ],
   "source": [
    "# Alternatively, analyze average delay by departure hour\n",
    "average_delay_hour = df.groupby(\"DepartureHour\")[\n",
    "    \"DelayMinutes\"].mean().reset_index()\n",
    "\n",
    "plt.figure(figsize=(8, 5))\n",
    "sns.lineplot(data=average_delay_hour, x=\"DepartureHour\",\n",
    "             y=\"DelayMinutes\", marker=\"o\")\n",
    "plt.title(\"Average Delay by Departure Hour\")\n",
    "plt.xlabel(\"Departure Hour(Time)\")\n",
    "plt.ylabel(\"Average Delay (Minutes)\")\n",
    "plt.grid(axis=\"y\", linestyle=\"--\")\n",
    "plt.xticks(range(6, 24))\n",
    "plt.show()\n",
    "\n",
    "print('Insights:')\n",
    "print(\"1. High delays in the evening: Delays peak after 17:00, with the highest around 20:00 (60+ minutes).\")\n",
    "print(\"2. Minimal delays at midday: Almost no delays between 14:00 and 15:00.\")\n",
    "print(\"3. Morning decline: Delays gradually decrease from 9:00 to 13:00.\")"
   ]
  },
  {
   "cell_type": "markdown",
   "metadata": {},
   "source": [
    "- Determine if there is a significant difference in delays between different airlines.\n"
   ]
  },
  {
   "cell_type": "code",
   "execution_count": 113,
   "metadata": {},
   "outputs": [
    {
     "name": "stdout",
     "output_type": "stream",
     "text": [
      "ANOVA Result:\n",
      "F-statistic: 1.4396907216494845, p-value: 0.29942565031587365\n",
      "There is no significant difference in delays between airlines.\n"
     ]
    }
   ],
   "source": [
    "# Prepare data for ANOVA\n",
    "airline_delays = [group[\"DelayMinutes\"].values for name, group in df.groupby(\"Airline\")]\n",
    "\n",
    "# Perform one-way ANOVA\n",
    "anova_result = stats.f_oneway(*airline_delays)\n",
    "\n",
    "print(\"ANOVA Result:\")\n",
    "print(f\"F-statistic: {anova_result.statistic}, p-value: {anova_result.pvalue}\")\n",
    "\n",
    "# Interpretation\n",
    "if anova_result.pvalue < 0.05:\n",
    "    print(\"There is a significant difference in delays between airlines.\")\n",
    "else:\n",
    "    print(\"There is no significant difference in delays between airlines.\")"
   ]
  },
  {
   "cell_type": "markdown",
   "metadata": {},
   "source": [
    "## INSIGHTS:\n"
   ]
  },
  {
   "cell_type": "markdown",
   "metadata": {},
   "source": [
    "### Key Insights:\n",
    "\n",
    "#### a. **Provide a summary of the key findings from the data**:\n",
    "- **Delay Distribution**: Most flights experience delays of less than 30 minutes, with a significant portion facing delays under 10 minutes.\n",
    "- **Average Delay by Airline**: American Airlines shows the highest average delay, followed by United Airlines, while Delta experiences the lowest delays.\n",
    "- **Impact of Departure Time**: Flights departing later in the day tend to experience longer delays, particularly during the evening.\n",
    "- **No Significant Differences Across Airlines**: ANOVA results indicate no statistically significant difference in delays between airlines (p-value: 0.225).\n",
    "\n",
    "#### b. **Analyze the impact of departure times on delays.**:\n",
    "- **Evening Delays**: Delays peak in the evening, especially after 17:00, with the highest around 20:00.\n",
    "- **Minimal Delays at Midday**: Flights between 14:00 and 15:00 see the least delays.\n",
    "- **Morning Decline**: Delays gradually reduce from 9:00 AM until early afternoon.\n",
    "\n",
    "#### c. **Compare delay distributions between airlines.**:\n",
    "- **American Airlines** faces the most significant delays, with an average of 30 minutes.\n",
    "- **Delta Airlines** demonstrates operational efficiency with the lowest average delays at 5 minutes.\n",
    "- **United Airlines** falls in the middle, averaging 22.5 minutes of delay.\n",
    "\n",
    "#### d. **Recommendations**:\n",
    "- **Operational Optimization**: American Airlines should focus on reducing delays, especially during high-delay periods (early morning and evening).\n",
    "- **Resource Allocation**: Airlines should allocate more resources during peak delay times (late afternoon and evening) to improve punctuality.\n",
    "- **Scheduling Adjustments**: Revising flight schedules around high-delay times (17:00-20:00) could help reduce bottlenecks."
   ]
  }
 ],
 "metadata": {
  "kernelspec": {
   "display_name": "base",
   "language": "python",
   "name": "python3"
  },
  "language_info": {
   "codemirror_mode": {
    "name": "ipython",
    "version": 3
   },
   "file_extension": ".py",
   "mimetype": "text/x-python",
   "name": "python",
   "nbconvert_exporter": "python",
   "pygments_lexer": "ipython3",
   "version": "3.12.2"
  }
 },
 "nbformat": 4,
 "nbformat_minor": 2
}
