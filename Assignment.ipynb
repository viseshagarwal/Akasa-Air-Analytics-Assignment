{
 "cells": [
  {
   "cell_type": "markdown",
   "metadata": {},
   "source": [
    "# Interview Task – Data Engineering & Analytics"
   ]
  },
  {
   "cell_type": "markdown",
   "metadata": {},
   "source": [
    "## 1. Datasets Issues and Requirements"
   ]
  },
  {
   "cell_type": "code",
   "execution_count": 1,
   "metadata": {},
   "outputs": [],
   "source": [
    "# imports\n",
    "import pandas as pd\n",
    "#import numpy as np\n",
    "import matplotlib.pyplot as plt\n",
    "import seaborn as sns\n",
    "from datetime import datetime, timedelta\n",
    "import scipy.stats as stats"
   ]
  },
  {
   "cell_type": "markdown",
   "metadata": {},
   "source": [
    "### Import the datasets"
   ]
  },
  {
   "cell_type": "code",
   "execution_count": 2,
   "metadata": {},
   "outputs": [
    {
     "data": {
      "text/html": [
       "<div>\n",
       "<style scoped>\n",
       "    .dataframe tbody tr th:only-of-type {\n",
       "        vertical-align: middle;\n",
       "    }\n",
       "\n",
       "    .dataframe tbody tr th {\n",
       "        vertical-align: top;\n",
       "    }\n",
       "\n",
       "    .dataframe thead th {\n",
       "        text-align: right;\n",
       "    }\n",
       "</style>\n",
       "<table border=\"1\" class=\"dataframe\">\n",
       "  <thead>\n",
       "    <tr style=\"text-align: right;\">\n",
       "      <th></th>\n",
       "      <th>FlightNumber</th>\n",
       "      <th>DepartureDate</th>\n",
       "      <th>DepartureTime</th>\n",
       "      <th>ArrivalDate</th>\n",
       "      <th>ArrivalTime</th>\n",
       "      <th>Airline</th>\n",
       "      <th>DelayMinutes</th>\n",
       "    </tr>\n",
       "  </thead>\n",
       "  <tbody>\n",
       "    <tr>\n",
       "      <th>0</th>\n",
       "      <td>AA1234</td>\n",
       "      <td>09/01/2023</td>\n",
       "      <td>08:30 AM</td>\n",
       "      <td>09/01/2023</td>\n",
       "      <td>10:45 AM</td>\n",
       "      <td>American Airlines</td>\n",
       "      <td>15.0</td>\n",
       "    </tr>\n",
       "    <tr>\n",
       "      <th>1</th>\n",
       "      <td>DL5678</td>\n",
       "      <td>09/01/2023</td>\n",
       "      <td>01:15 PM</td>\n",
       "      <td>09/01/2023</td>\n",
       "      <td>03:30 PM</td>\n",
       "      <td>Delta</td>\n",
       "      <td>5.0</td>\n",
       "    </tr>\n",
       "    <tr>\n",
       "      <th>2</th>\n",
       "      <td>UA9101</td>\n",
       "      <td>09/01/2023</td>\n",
       "      <td>05:00 PM</td>\n",
       "      <td>09/01/2023</td>\n",
       "      <td>07:15 PM</td>\n",
       "      <td>United Airlines</td>\n",
       "      <td>25.0</td>\n",
       "    </tr>\n",
       "    <tr>\n",
       "      <th>3</th>\n",
       "      <td>AA1234</td>\n",
       "      <td>09/01/2023</td>\n",
       "      <td>08:30 AM</td>\n",
       "      <td>09/01/2023</td>\n",
       "      <td>10:45 PM</td>\n",
       "      <td>American Airlines</td>\n",
       "      <td>30.0</td>\n",
       "    </tr>\n",
       "    <tr>\n",
       "      <th>4</th>\n",
       "      <td>DL5678</td>\n",
       "      <td>09/02/2023</td>\n",
       "      <td>02:00 PM</td>\n",
       "      <td>09/02/2023</td>\n",
       "      <td>04:10 PM</td>\n",
       "      <td>Delta</td>\n",
       "      <td>NaN</td>\n",
       "    </tr>\n",
       "  </tbody>\n",
       "</table>\n",
       "</div>"
      ],
      "text/plain": [
       "  FlightNumber DepartureDate DepartureTime ArrivalDate ArrivalTime  \\\n",
       "0       AA1234    09/01/2023      08:30 AM  09/01/2023    10:45 AM   \n",
       "1       DL5678    09/01/2023      01:15 PM  09/01/2023    03:30 PM   \n",
       "2       UA9101    09/01/2023      05:00 PM  09/01/2023    07:15 PM   \n",
       "3       AA1234    09/01/2023      08:30 AM  09/01/2023    10:45 PM   \n",
       "4       DL5678    09/02/2023      02:00 PM  09/02/2023    04:10 PM   \n",
       "\n",
       "             Airline  DelayMinutes  \n",
       "0  American Airlines          15.0  \n",
       "1              Delta           5.0  \n",
       "2    United Airlines          25.0  \n",
       "3  American Airlines          30.0  \n",
       "4              Delta           NaN  "
      ]
     },
     "execution_count": 2,
     "metadata": {},
     "output_type": "execute_result"
    }
   ],
   "source": [
    "df = pd.read_csv(\"aviation_data.csv\")\n",
    "df.head()"
   ]
  },
  {
   "cell_type": "markdown",
   "metadata": {},
   "source": [
    "### Insert the datasets into a MySQL database"
   ]
  },
  {
   "cell_type": "code",
   "execution_count": 3,
   "metadata": {},
   "outputs": [
    {
     "name": "stdout",
     "output_type": "stream",
     "text": [
      "   id FlightNumber DepartureDate DepartureTime ArrivalDate ArrivalTime  \\\n",
      "0   1       AA1234    09/01/2023      08:30 AM  09/01/2023    10:45 AM   \n",
      "1   2       DL5678    09/01/2023      01:15 PM  09/01/2023    03:30 PM   \n",
      "2   3       UA9101    09/01/2023      05:00 PM  09/01/2023    07:15 PM   \n",
      "3   4       AA1234    09/01/2023      08:30 AM  09/01/2023    10:45 PM   \n",
      "4   5       DL5678    09/02/2023      02:00 PM  09/02/2023    04:10 PM   \n",
      "\n",
      "             Airline  DelayMinutes  \n",
      "0  American Airlines          15.0  \n",
      "1              Delta           5.0  \n",
      "2    United Airlines          25.0  \n",
      "3  American Airlines          30.0  \n",
      "4              Delta           NaN  \n"
     ]
    }
   ],
   "source": [
    "from sqlalchemy import create_engine, text\n",
    "import os\n",
    "import pandas as pd\n",
    "from dotenv import load_dotenv\n",
    "\n",
    "# Load environment variables from the .env file\n",
    "load_dotenv()\n",
    "\n",
    "# Retrieve database credentials from environment variables\n",
    "DB_USERNAME = os.getenv(\"DB_USERNAME\")\n",
    "DB_PASSWORD = os.getenv(\"DB_PASSWORD\")\n",
    "DB_HOST = os.getenv(\"DB_HOST\")\n",
    "DB_NAME = os.getenv(\"DB_NAME\")\n",
    "DB_PORT = os.getenv(\"DB_PORT\")\n",
    "\n",
    "\n",
    "connection_string = f\"mysql+pymysql://{DB_USERNAME}:{DB_PASSWORD}@{DB_HOST}:{DB_PORT}/{DB_NAME}\"\n",
    "\n",
    "try:\n",
    "    engine = create_engine(connection_string)\n",
    "    # create table\n",
    "    create_table_query = text(\"\"\"\n",
    "    CREATE TABLE IF NOT EXISTS aviation_data (\n",
    "        id INT AUTO_INCREMENT PRIMARY KEY,\n",
    "        FlightNumber TEXT,\n",
    "        DepartureDate TEXT,\n",
    "        DepartureTime TEXT,\n",
    "        ArrivalDate TEXT,\n",
    "        ArrivalTime TEXT,\n",
    "        Airline TEXT,\n",
    "        DelayMinutes FLOAT\n",
    "    )\"\"\"\n",
    "    )\n",
    "\n",
    "    with engine.connect() as connection:\n",
    "        connection.execute(create_table_query)\n",
    "\n",
    "    df.to_sql(\"aviation_data\", engine, if_exists=\"append\", index=False)\n",
    "\n",
    "    df_fetched = pd.read_sql(\"SELECT * FROM aviation_data\", engine)\n",
    "\n",
    "    print(df_fetched.head())\n",
    "\n",
    "except Exception as e:\n",
    "    print(f\"Error: {e}\")\n",
    "\n",
    "finally:\n",
    "    engine.dispose()"
   ]
  },
  {
   "cell_type": "code",
   "execution_count": 4,
   "metadata": {},
   "outputs": [],
   "source": [
    "# DepartureDate and ArrivalDate are in MM/DD/YYYY format.\n"
   ]
  }
 ],
 "metadata": {
  "kernelspec": {
   "display_name": "base",
   "language": "python",
   "name": "python3"
  },
  "language_info": {
   "codemirror_mode": {
    "name": "ipython",
    "version": 3
   },
   "file_extension": ".py",
   "mimetype": "text/x-python",
   "name": "python",
   "nbconvert_exporter": "python",
   "pygments_lexer": "ipython3",
   "version": "3.12.2"
  }
 },
 "nbformat": 4,
 "nbformat_minor": 2
}
